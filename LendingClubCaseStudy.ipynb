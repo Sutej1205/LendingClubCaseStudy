{
 "cells": [
  {
   "cell_type": "code",
   "execution_count": 1,
   "id": "ef99d90a",
   "metadata": {},
   "outputs": [],
   "source": [
    "# importing libraries\n",
    "\n",
    "import pandas as pd\n",
    "import numpy as np\n",
    "import matplotlib.pyplot as plt\n",
    "import seaborn as sns\n",
    "import plotly.express as px\n",
    "import warnings\n",
    "warnings.filterwarnings('ignore')"
   ]
  },
  {
   "cell_type": "code",
   "execution_count": null,
   "id": "0eaad81b",
   "metadata": {},
   "outputs": [],
   "source": []
  },
  {
   "cell_type": "code",
   "execution_count": 2,
   "id": "479815d6",
   "metadata": {},
   "outputs": [],
   "source": [
    "pd.set_option('display.max_rows',1000)"
   ]
  },
  {
   "cell_type": "code",
   "execution_count": 3,
   "id": "f3e404c9",
   "metadata": {},
   "outputs": [],
   "source": [
    "# Read data from File\n",
    "loan= pd.read_csv(r\"C:\\Users\\gexce\\OneDrive\\Case study\\loan.csv\")"
   ]
  },
  {
   "cell_type": "code",
   "execution_count": 4,
   "id": "d06eacff",
   "metadata": {},
   "outputs": [
    {
     "data": {
      "text/html": [
       "<div>\n",
       "<style scoped>\n",
       "    .dataframe tbody tr th:only-of-type {\n",
       "        vertical-align: middle;\n",
       "    }\n",
       "\n",
       "    .dataframe tbody tr th {\n",
       "        vertical-align: top;\n",
       "    }\n",
       "\n",
       "    .dataframe thead th {\n",
       "        text-align: right;\n",
       "    }\n",
       "</style>\n",
       "<table border=\"1\" class=\"dataframe\">\n",
       "  <thead>\n",
       "    <tr style=\"text-align: right;\">\n",
       "      <th></th>\n",
       "      <th>id</th>\n",
       "      <th>member_id</th>\n",
       "      <th>loan_amnt</th>\n",
       "      <th>funded_amnt</th>\n",
       "      <th>funded_amnt_inv</th>\n",
       "      <th>term</th>\n",
       "      <th>int_rate</th>\n",
       "      <th>installment</th>\n",
       "      <th>grade</th>\n",
       "      <th>sub_grade</th>\n",
       "      <th>...</th>\n",
       "      <th>num_tl_90g_dpd_24m</th>\n",
       "      <th>num_tl_op_past_12m</th>\n",
       "      <th>pct_tl_nvr_dlq</th>\n",
       "      <th>percent_bc_gt_75</th>\n",
       "      <th>pub_rec_bankruptcies</th>\n",
       "      <th>tax_liens</th>\n",
       "      <th>tot_hi_cred_lim</th>\n",
       "      <th>total_bal_ex_mort</th>\n",
       "      <th>total_bc_limit</th>\n",
       "      <th>total_il_high_credit_limit</th>\n",
       "    </tr>\n",
       "  </thead>\n",
       "  <tbody>\n",
       "    <tr>\n",
       "      <th>0</th>\n",
       "      <td>1077501</td>\n",
       "      <td>1296599</td>\n",
       "      <td>5000</td>\n",
       "      <td>5000</td>\n",
       "      <td>4975.0</td>\n",
       "      <td>36 months</td>\n",
       "      <td>10.65%</td>\n",
       "      <td>162.87</td>\n",
       "      <td>B</td>\n",
       "      <td>B2</td>\n",
       "      <td>...</td>\n",
       "      <td>NaN</td>\n",
       "      <td>NaN</td>\n",
       "      <td>NaN</td>\n",
       "      <td>NaN</td>\n",
       "      <td>0.0</td>\n",
       "      <td>0.0</td>\n",
       "      <td>NaN</td>\n",
       "      <td>NaN</td>\n",
       "      <td>NaN</td>\n",
       "      <td>NaN</td>\n",
       "    </tr>\n",
       "    <tr>\n",
       "      <th>1</th>\n",
       "      <td>1077430</td>\n",
       "      <td>1314167</td>\n",
       "      <td>2500</td>\n",
       "      <td>2500</td>\n",
       "      <td>2500.0</td>\n",
       "      <td>60 months</td>\n",
       "      <td>15.27%</td>\n",
       "      <td>59.83</td>\n",
       "      <td>C</td>\n",
       "      <td>C4</td>\n",
       "      <td>...</td>\n",
       "      <td>NaN</td>\n",
       "      <td>NaN</td>\n",
       "      <td>NaN</td>\n",
       "      <td>NaN</td>\n",
       "      <td>0.0</td>\n",
       "      <td>0.0</td>\n",
       "      <td>NaN</td>\n",
       "      <td>NaN</td>\n",
       "      <td>NaN</td>\n",
       "      <td>NaN</td>\n",
       "    </tr>\n",
       "    <tr>\n",
       "      <th>2</th>\n",
       "      <td>1077175</td>\n",
       "      <td>1313524</td>\n",
       "      <td>2400</td>\n",
       "      <td>2400</td>\n",
       "      <td>2400.0</td>\n",
       "      <td>36 months</td>\n",
       "      <td>15.96%</td>\n",
       "      <td>84.33</td>\n",
       "      <td>C</td>\n",
       "      <td>C5</td>\n",
       "      <td>...</td>\n",
       "      <td>NaN</td>\n",
       "      <td>NaN</td>\n",
       "      <td>NaN</td>\n",
       "      <td>NaN</td>\n",
       "      <td>0.0</td>\n",
       "      <td>0.0</td>\n",
       "      <td>NaN</td>\n",
       "      <td>NaN</td>\n",
       "      <td>NaN</td>\n",
       "      <td>NaN</td>\n",
       "    </tr>\n",
       "    <tr>\n",
       "      <th>3</th>\n",
       "      <td>1076863</td>\n",
       "      <td>1277178</td>\n",
       "      <td>10000</td>\n",
       "      <td>10000</td>\n",
       "      <td>10000.0</td>\n",
       "      <td>36 months</td>\n",
       "      <td>13.49%</td>\n",
       "      <td>339.31</td>\n",
       "      <td>C</td>\n",
       "      <td>C1</td>\n",
       "      <td>...</td>\n",
       "      <td>NaN</td>\n",
       "      <td>NaN</td>\n",
       "      <td>NaN</td>\n",
       "      <td>NaN</td>\n",
       "      <td>0.0</td>\n",
       "      <td>0.0</td>\n",
       "      <td>NaN</td>\n",
       "      <td>NaN</td>\n",
       "      <td>NaN</td>\n",
       "      <td>NaN</td>\n",
       "    </tr>\n",
       "    <tr>\n",
       "      <th>4</th>\n",
       "      <td>1075358</td>\n",
       "      <td>1311748</td>\n",
       "      <td>3000</td>\n",
       "      <td>3000</td>\n",
       "      <td>3000.0</td>\n",
       "      <td>60 months</td>\n",
       "      <td>12.69%</td>\n",
       "      <td>67.79</td>\n",
       "      <td>B</td>\n",
       "      <td>B5</td>\n",
       "      <td>...</td>\n",
       "      <td>NaN</td>\n",
       "      <td>NaN</td>\n",
       "      <td>NaN</td>\n",
       "      <td>NaN</td>\n",
       "      <td>0.0</td>\n",
       "      <td>0.0</td>\n",
       "      <td>NaN</td>\n",
       "      <td>NaN</td>\n",
       "      <td>NaN</td>\n",
       "      <td>NaN</td>\n",
       "    </tr>\n",
       "  </tbody>\n",
       "</table>\n",
       "<p>5 rows × 111 columns</p>\n",
       "</div>"
      ],
      "text/plain": [
       "        id  member_id  loan_amnt  funded_amnt  funded_amnt_inv        term  \\\n",
       "0  1077501    1296599       5000         5000           4975.0   36 months   \n",
       "1  1077430    1314167       2500         2500           2500.0   60 months   \n",
       "2  1077175    1313524       2400         2400           2400.0   36 months   \n",
       "3  1076863    1277178      10000        10000          10000.0   36 months   \n",
       "4  1075358    1311748       3000         3000           3000.0   60 months   \n",
       "\n",
       "  int_rate  installment grade sub_grade  ... num_tl_90g_dpd_24m  \\\n",
       "0   10.65%       162.87     B        B2  ...                NaN   \n",
       "1   15.27%        59.83     C        C4  ...                NaN   \n",
       "2   15.96%        84.33     C        C5  ...                NaN   \n",
       "3   13.49%       339.31     C        C1  ...                NaN   \n",
       "4   12.69%        67.79     B        B5  ...                NaN   \n",
       "\n",
       "  num_tl_op_past_12m pct_tl_nvr_dlq  percent_bc_gt_75 pub_rec_bankruptcies  \\\n",
       "0                NaN            NaN               NaN                  0.0   \n",
       "1                NaN            NaN               NaN                  0.0   \n",
       "2                NaN            NaN               NaN                  0.0   \n",
       "3                NaN            NaN               NaN                  0.0   \n",
       "4                NaN            NaN               NaN                  0.0   \n",
       "\n",
       "  tax_liens tot_hi_cred_lim total_bal_ex_mort total_bc_limit  \\\n",
       "0       0.0             NaN               NaN            NaN   \n",
       "1       0.0             NaN               NaN            NaN   \n",
       "2       0.0             NaN               NaN            NaN   \n",
       "3       0.0             NaN               NaN            NaN   \n",
       "4       0.0             NaN               NaN            NaN   \n",
       "\n",
       "  total_il_high_credit_limit  \n",
       "0                        NaN  \n",
       "1                        NaN  \n",
       "2                        NaN  \n",
       "3                        NaN  \n",
       "4                        NaN  \n",
       "\n",
       "[5 rows x 111 columns]"
      ]
     },
     "execution_count": 4,
     "metadata": {},
     "output_type": "execute_result"
    }
   ],
   "source": [
    "# check data \n",
    "loan.head()"
   ]
  },
  {
   "cell_type": "markdown",
   "id": "12783870",
   "metadata": {},
   "source": [
    "## Data Pre-processing"
   ]
  },
  {
   "cell_type": "code",
   "execution_count": 5,
   "id": "1c3bcddd",
   "metadata": {},
   "outputs": [
    {
     "data": {
      "text/plain": [
       "(39717, 25)"
      ]
     },
     "execution_count": 5,
     "metadata": {},
     "output_type": "execute_result"
    }
   ],
   "source": [
    "#Drop the columns having only null values.\n",
    "loan.dropna(axis = 1, how = 'all', inplace = True)\n",
    "loan.drop(['revol_bal','total_rec_prncp', 'total_rec_int', 'total_rec_late_fee', 'recoveries','collection_recovery_fee', 'last_pymnt_d','last_pymnt_amnt','next_pymnt_d', 'last_credit_pull_d','delinq_2yrs','out_prncp', 'out_prncp_inv', 'total_pymnt', 'total_pymnt_inv','title','application_type','policy_code','collections_12_mths_ex_med','initial_list_status','pymnt_plan','delinq_amnt','chargeoff_within_12_mths','acc_now_delinq',\"member_id\",\"emp_title\",\"zip_code\",\"tax_liens\",'url','desc','mths_since_last_delinq','mths_since_last_record'],axis=1, inplace=True)\n",
    "loan.shape"
   ]
  },
  {
   "cell_type": "code",
   "execution_count": 6,
   "id": "eb0e8824",
   "metadata": {},
   "outputs": [
    {
     "name": "stdout",
     "output_type": "stream",
     "text": [
      "(39717, 25)\n"
     ]
    }
   ],
   "source": [
    "# Removing duplicate rows in the loanframe\n",
    "loan_data = loan.drop_duplicates()\n",
    "# Shape of the dataframe after removing duplicate rows\n",
    "print(loan.shape)\n",
    "\n",
    "# No duplicate rows found in the dataframe"
   ]
  },
  {
   "cell_type": "markdown",
   "id": "7b4ddbc8",
   "metadata": {},
   "source": [
    "##### Removing rows with loan status as Current(i.e loan is currently ongoing), as analysis is required on only defaulted or completed loans"
   ]
  },
  {
   "cell_type": "code",
   "execution_count": 7,
   "id": "4ee3d0c6",
   "metadata": {},
   "outputs": [
    {
     "data": {
      "text/plain": [
       "array(['Fully Paid', 'Charged Off'], dtype=object)"
      ]
     },
     "execution_count": 7,
     "metadata": {},
     "output_type": "execute_result"
    }
   ],
   "source": [
    "loan = loan[loan.loan_status != \"Current\"]\n",
    "loan.loan_status.unique()"
   ]
  },
  {
   "cell_type": "code",
   "execution_count": 8,
   "id": "ab06de07",
   "metadata": {},
   "outputs": [
    {
     "data": {
      "text/plain": [
       "id                      0.000000\n",
       "loan_amnt               0.000000\n",
       "funded_amnt             0.000000\n",
       "funded_amnt_inv         0.000000\n",
       "term                    0.000000\n",
       "int_rate                0.000000\n",
       "installment             0.000000\n",
       "grade                   0.000000\n",
       "sub_grade               0.000000\n",
       "emp_length              2.677761\n",
       "home_ownership          0.000000\n",
       "annual_inc              0.000000\n",
       "verification_status     0.000000\n",
       "issue_d                 0.000000\n",
       "loan_status             0.000000\n",
       "purpose                 0.000000\n",
       "addr_state              0.000000\n",
       "dti                     0.000000\n",
       "earliest_cr_line        0.000000\n",
       "inq_last_6mths          0.000000\n",
       "open_acc                0.000000\n",
       "pub_rec                 0.000000\n",
       "revol_util              0.129611\n",
       "total_acc               0.000000\n",
       "pub_rec_bankruptcies    1.806776\n",
       "dtype: float64"
      ]
     },
     "execution_count": 8,
     "metadata": {},
     "output_type": "execute_result"
    }
   ],
   "source": [
    "100 * loan.isnull().mean()"
   ]
  },
  {
   "cell_type": "code",
   "execution_count": 9,
   "id": "dcd6aa1d",
   "metadata": {},
   "outputs": [
    {
     "name": "stdout",
     "output_type": "stream",
     "text": [
      "0    Mode : 10+ years\n",
      "Name: emp_length, dtype: object\n"
     ]
    }
   ],
   "source": [
    "#Identifying the mode value and replacing the null values with mode for categorical variables(i.e emp_length,pub_rec_bankruptcies) and droping the rows with na values in revol_util column\n",
    "print('Mode : ' + loan.emp_length.mode())\n",
    "# loan.emp_length.value_counts()\n",
    "\n",
    "loan.emp_length.fillna(loan.emp_length.mode()[0],inplace=True)\n",
    "loan.dropna(axis = 0, subset = ['revol_util'] , inplace = True)\n",
    "loan.pub_rec_bankruptcies.fillna(loan.pub_rec_bankruptcies.mode()[0],inplace=True)"
   ]
  },
  {
   "cell_type": "markdown",
   "id": "a64d61f7",
   "metadata": {},
   "source": [
    "###### Creating new columns and correcting datatypes of columns"
   ]
  },
  {
   "cell_type": "code",
   "execution_count": 10,
   "id": "ce1f0595",
   "metadata": {},
   "outputs": [],
   "source": [
    "#Removing % from int_rate or revol_util column and converting them from string to integer\n",
    "loan['int_rate'] = pd.to_numeric(loan['int_rate'].str.strip('%'))\n",
    "loan['revol_util']= pd.to_numeric(loan['revol_util'].str.strip('%'))\n",
    "\n",
    "#Converting issue_d into date format\n",
    "loan['issue_d'] = pd.to_datetime(loan['issue_d'] , format='%b-%d')\n",
    "loan['issue_d'] = loan['issue_d'].apply(lambda x: x.replace(year=2024))\n",
    "\n",
    "# Deriving new column as issue_month and issue_year from issue_d column\n",
    "loan['issue_month'] = loan['issue_d'].dt.strftime('%b')\n",
    "loan['issue_week']= loan['issue_d'].dt.weekday.astype(object)\n",
    "\n",
    "# Removing months from term column values\n",
    "loan['term']=loan['term'].apply(lambda x: int(x.replace(' months',''))).astype(int)\n",
    "\n",
    "# Removing special chartacters and words from values of emp_length column \n",
    "loan['emp_length']=loan['emp_length'].apply(lambda x: x.replace('years','').replace('+','').replace('< 1','0.5').replace('year','')).astype(float)\n"
   ]
  },
  {
   "cell_type": "markdown",
   "id": "a94ee99b",
   "metadata": {},
   "source": [
    "###### Outliers identification in the data"
   ]
  },
  {
   "cell_type": "code",
   "execution_count": 11,
   "id": "49e9dc4f",
   "metadata": {},
   "outputs": [
    {
     "data": {
      "text/plain": [
       "27"
      ]
     },
     "execution_count": 11,
     "metadata": {},
     "output_type": "execute_result"
    }
   ],
   "source": [
    "numerical_col= ['loan_amnt','funded_amnt', 'funded_amnt_inv', 'int_rate', 'installment','annual_inc','dti','revol_util']\n",
    "categorical_col= ['term','grade', 'sub_grade','emp_length', 'home_ownership','verification_status','loan_status','purpose', 'addr_state','inq_last_6mths','open_acc','pub_rec','total_acc','pub_rec_bankruptcies','issue_month','issue_week']\n",
    "extra_col=['id','issue_d','earliest_cr_line']\n",
    "\n",
    "len(numerical_col+categorical_col+extra_col)"
   ]
  },
  {
   "cell_type": "code",
   "execution_count": 12,
   "id": "3edd9ba5",
   "metadata": {
    "scrolled": true
   },
   "outputs": [
    {
     "data": {
      "image/png": "[encoded data removed]",
      "text/plain": [
       "<Figure size 1800x1500 with 8 Axes>"
      ]
     },
     "metadata": {},
     "output_type": "display_data"
    }
   ],
   "source": [
    "# Finding outliers for each numerical column\n",
    "fig, axes = plt.subplots(3, 3, figsize=(18, 15))\n",
    "axes = axes.flatten()  # Flatten the 2D array of axes for easy iteration\n",
    "\n",
    "# Loop through numerical columns and create a boxplot for each\n",
    "for i, col in enumerate(numerical_col):\n",
    "    sns.boxplot(x=loan[col], ax=axes[i])\n",
    "    axes[i].set_ylabel('count')\n",
    "    axes[i].set_title(f'{col} Boxplot')\n",
    "\n",
    "# Hide any unused subplots\n",
    "for j in range(i+1, len(axes)):\n",
    "    fig.delaxes(axes[j])\n",
    "\n",
    "plt.show()"
   ]
  },
  {
   "cell_type": "code",
   "execution_count": 13,
   "id": "9872f328",
   "metadata": {},
   "outputs": [
    {
     "name": "stdout",
     "output_type": "stream",
     "text": [
      "loan_amnt at different quartiles\n",
      "0.01     1200.0\n",
      "0.10     3125.0\n",
      "0.50     9600.0\n",
      "0.10     3125.0\n",
      "0.50     9600.0\n",
      "0.75    15000.0\n",
      "0.90    21600.0\n",
      "0.95    25000.0\n",
      "0.96    25000.0\n",
      "0.97    28000.0\n",
      "0.98    30000.0\n",
      "0.99    35000.0\n",
      "1.00    35000.0\n",
      "Name: loan_amnt, dtype: float64\n",
      "funded_amnt at different quartiles\n",
      "0.01     1200.0\n",
      "0.10     3075.0\n",
      "0.50     9600.0\n",
      "0.10     3075.0\n",
      "0.50     9600.0\n",
      "0.75    15000.0\n",
      "0.90    20000.0\n",
      "0.95    25000.0\n",
      "0.96    25000.0\n",
      "0.97    27000.0\n",
      "0.98    30000.0\n",
      "0.99    35000.0\n",
      "1.00    35000.0\n",
      "Name: funded_amnt, dtype: float64\n",
      "funded_amnt_inv at different quartiles\n",
      "0.01      672.928581\n",
      "0.10     2850.000000\n",
      "0.50     8750.000000\n",
      "0.10     2850.000000\n",
      "0.50     8750.000000\n",
      "0.75    14000.000000\n",
      "0.90    19975.000000\n",
      "0.95    24506.582238\n",
      "0.96    24950.000000\n",
      "0.97    25828.061320\n",
      "0.98    29890.414864\n",
      "0.99    34721.583150\n",
      "1.00    35000.000000\n",
      "Name: funded_amnt_inv, dtype: float64\n",
      "int_rate at different quartiles\n",
      "0.01     5.42\n",
      "0.10     7.14\n",
      "0.50    11.71\n",
      "0.10     7.14\n",
      "0.50    11.71\n",
      "0.75    14.35\n",
      "0.90    16.82\n",
      "0.95    18.30\n",
      "0.96    18.67\n",
      "0.97    19.29\n",
      "0.98    19.91\n",
      "0.99    20.90\n",
      "1.00    24.40\n",
      "Name: int_rate, dtype: float64\n",
      "installment at different quartiles\n",
      "0.01      37.5500\n",
      "0.10      99.2300\n",
      "0.50     278.1500\n",
      "0.10      99.2300\n",
      "0.50     278.1500\n",
      "0.75     425.8600\n",
      "0.90     621.2220\n",
      "0.95     760.8200\n",
      "0.96     805.0800\n",
      "0.97     831.0858\n",
      "0.98     870.3900\n",
      "0.99     931.0900\n",
      "1.00    1305.1900\n",
      "Name: installment, dtype: float64\n",
      "annual_inc at different quartiles\n",
      "0.01      14400.0\n",
      "0.10      30000.0\n",
      "0.50      59000.0\n",
      "0.10      30000.0\n",
      "0.50      59000.0\n",
      "0.75      82000.0\n",
      "0.90     115000.0\n",
      "0.95     140004.0\n",
      "0.96     150000.0\n",
      "0.97     165000.0\n",
      "0.98     187000.0\n",
      "0.99     234000.0\n",
      "1.00    6000000.0\n",
      "Name: annual_inc, dtype: float64\n",
      "dti at different quartiles\n",
      "0.01     0.36\n",
      "0.10     4.06\n",
      "0.50    13.37\n",
      "0.10     4.06\n",
      "0.50    13.37\n",
      "0.75    18.56\n",
      "0.90    22.29\n",
      "0.95    23.80\n",
      "0.96    24.14\n",
      "0.97    24.51\n",
      "0.98    24.85\n",
      "0.99    26.53\n",
      "1.00    29.99\n",
      "Name: dti, dtype: float64\n",
      "revol_util at different quartiles\n",
      "0.01     0.00\n",
      "0.10     8.40\n",
      "0.50    49.10\n",
      "0.10     8.40\n",
      "0.50    49.10\n",
      "0.75    72.30\n",
      "0.90    87.80\n",
      "0.95    93.57\n",
      "0.96    94.70\n",
      "0.97    95.90\n",
      "0.98    97.10\n",
      "0.99    98.50\n",
      "1.00    99.90\n",
      "Name: revol_util, dtype: float64\n"
     ]
    }
   ],
   "source": [
    "#finding quartiles for each numerical column\n",
    "for i in numerical_col:\n",
    "    print(i + ' at different quartiles')\n",
    "    print(loan[i].quantile([0.01,0.1,0.5,0.10,0.50,0.75,0.90,0.95,0.96,0.97,0.98,0.99,1.0]))"
   ]
  },
  {
   "cell_type": "code",
   "execution_count": 14,
   "id": "5a855eaa",
   "metadata": {},
   "outputs": [],
   "source": [
    "#Removing values with annual income greater than equal to 0.99 quartile as there is an exponential increase in annual income around the 99th percentile. Therefore, it is advisable to exclude values beyond the 99th percentile.\n",
    "annual_inc_99_per = loan['annual_inc'].quantile(0.99)\n",
    "loan = loan[loan.annual_inc <= annual_inc_99_per]"
   ]
  },
  {
   "cell_type": "code",
   "execution_count": 15,
   "id": "1e826e4c",
   "metadata": {},
   "outputs": [
    {
     "data": {
      "text/plain": [
       "(38142, 27)"
      ]
     },
     "execution_count": 15,
     "metadata": {},
     "output_type": "execute_result"
    }
   ],
   "source": [
    "# check size of data\n",
    "\n",
    "loan.shape"
   ]
  },
  {
   "cell_type": "code",
   "execution_count": 16,
   "id": "6705bf35",
   "metadata": {},
   "outputs": [
    {
     "name": "stdout",
     "output_type": "stream",
     "text": [
      "loan_status\n",
      "Fully Paid     85.401919\n",
      "Charged Off    14.598081\n",
      "Name: count, dtype: float64\n"
     ]
    }
   ],
   "source": [
    "# now we will do analysis \n",
    "# first analysis will be based on Univariate analysis\n",
    "# check loan status first\n",
    "print(100*  (loan['loan_status'].value_counts()/loan['loan_status'].value_counts().sum()))"
   ]
  },
  {
   "cell_type": "markdown",
   "id": "da3ef3e8",
   "metadata": {},
   "source": [
    "As per above analysis below are the observations\n",
    "Observation : \n",
    "- 85.40 percent of people have fully paid the loan whereas approx. \n",
    "- 14.60 percent of people defaulted."
   ]
  },
  {
   "cell_type": "markdown",
   "id": "7d44d2f8",
   "metadata": {},
   "source": [
    "will check loan status fully paid vs charged off\n"
   ]
  },
  {
   "cell_type": "code",
   "execution_count": 17,
   "id": "f3561288",
   "metadata": {},
   "outputs": [
    {
     "data": {
      "image/png": "[encoded data removed]",
      "text/plain": [
       "<Figure size 600x300 with 1 Axes>"
      ]
     },
     "metadata": {},
     "output_type": "display_data"
    }
   ],
   "source": [
    "plt.figure(figsize=(6,3))\n",
    "ax = sns.countplot(x='loan_status', data=loan)\n",
    "for p in ax.patches:\n",
    "    height = int(p.get_height()) if p.get_height().is_integer() else p.get_height()\n",
    "    ax.annotate(f'{height}', (p.get_x() + p.get_width() / 2., p.get_height()), \n",
    "                ha='center', va='center', xytext=(0, 5), textcoords='offset points')\n",
    "plt.title('Count of Members with Loan Status Paid/ Charged Off')\n",
    "plt.ylabel('loan_status count')\n",
    "plt.show()"
   ]
  },
  {
   "cell_type": "markdown",
   "id": "964c2a80",
   "metadata": {},
   "source": [
    "let us check term loan"
   ]
  },
  {
   "cell_type": "code",
   "execution_count": 18,
   "id": "3e0d0b19",
   "metadata": {},
   "outputs": [
    {
     "name": "stdout",
     "output_type": "stream",
     "text": [
      "term\n",
      "36    75.436527\n",
      "60    24.563473\n",
      "Name: count, dtype: float64\n"
     ]
    },
    {
     "data": {
      "image/png": "[encoded data removed]",
      "text/plain": [
       "<Figure size 600x300 with 1 Axes>"
      ]
     },
     "metadata": {},
     "output_type": "display_data"
    }
   ],
   "source": [
    "print(100*  (loan['term'].value_counts()/loan['term'].value_counts().sum()))\n",
    "plt.figure(figsize=(6,3))\n",
    "ax = sns.countplot(x='term', data=loan)\n",
    "for p in ax.patches:\n",
    "    height = int(p.get_height()) if p.get_height().is_integer() else p.get_height()\n",
    "    ax.annotate(f'{height}', (p.get_x() + p.get_width() / 2., p.get_height()), \n",
    "                ha='center', va='center', xytext=(0, 5), textcoords='offset points')\n",
    "plt.title('Count of Members with Term of Loan')\n",
    "plt.ylabel('term count')\n",
    "plt.show()"
   ]
  },
  {
   "cell_type": "markdown",
   "id": "0bca6f6c",
   "metadata": {},
   "source": [
    "As per above analysis below are the observations\n",
    "\n",
    "Observation: \n",
    "    More then 75% loans are taken fore duration of 36 months in comparison to 60 months term plan"
   ]
  },
  {
   "cell_type": "markdown",
   "id": "6001d3d1",
   "metadata": {},
   "source": [
    "Let's analysis on grade"
   ]
  },
  {
   "cell_type": "code",
   "execution_count": 19,
   "id": "ddda90b9",
   "metadata": {},
   "outputs": [
    {
     "name": "stdout",
     "output_type": "stream",
     "text": [
      "grade\n",
      "B    30.360233\n",
      "A    26.157517\n",
      "C    20.289969\n",
      "D    13.140370\n",
      "E     6.814011\n",
      "F     2.485449\n",
      "G     0.752451\n",
      "Name: count, dtype: float64\n"
     ]
    },
    {
     "data": {
      "image/png": "[encoded data removed]",
      "text/plain": [
       "<Figure size 600x400 with 1 Axes>"
      ]
     },
     "metadata": {},
     "output_type": "display_data"
    }
   ],
   "source": [
    "print(100*  (loan['grade'].value_counts()/loan['grade'].value_counts().sum()))\n",
    "plt.figure(figsize=(6,4))\n",
    "sorted_order = sorted(loan['grade'].unique())\n",
    "ax = sns.countplot(x = 'grade', data = loan, order=sorted_order)\n",
    "for p in ax.patches:\n",
    "    height = int(p.get_height()) if p.get_height().is_integer() else p.get_height()\n",
    "    ax.annotate(f'{height}', (p.get_x() + p.get_width() / 2., p.get_height()), \n",
    "                ha='center', va='center', xytext=(0, 5), textcoords='offset points')\n",
    "plt.title('Grade distribution plot ')\n",
    "plt.ylabel('Grade count')\n",
    "plt.show()"
   ]
  },
  {
   "cell_type": "markdown",
   "id": "e22d32d8",
   "metadata": {},
   "source": [
    "Obervations - Findings : More then 50% borrowers belong to group A and B in comparizon to another groups"
   ]
  },
  {
   "cell_type": "markdown",
   "id": "0c55f3b9",
   "metadata": {},
   "source": [
    "lets do analysis on sub grade\n"
   ]
  },
  {
   "cell_type": "code",
   "execution_count": 20,
   "id": "1a776877",
   "metadata": {},
   "outputs": [
    {
     "name": "stdout",
     "output_type": "stream",
     "text": [
      "sub_grade\n",
      "A4    7.482565\n",
      "B3    7.320015\n",
      "A5    7.060458\n",
      "B5    6.816633\n",
      "B4    6.355199\n",
      "C1    5.322217\n",
      "B2    5.185884\n",
      "C2    5.004981\n",
      "A3    4.716585\n",
      "B1    4.682502\n",
      "A2    3.930051\n",
      "C3    3.846154\n",
      "D2    3.319176\n",
      "C4    3.140895\n",
      "C5    2.975722\n",
      "A1    2.967857\n",
      "D3    2.883960\n",
      "D1    2.406796\n",
      "D4    2.370091\n",
      "D5    2.160348\n",
      "E1    1.866709\n",
      "E2    1.575691\n",
      "E3    1.316134\n",
      "E4    1.098527\n",
      "E5    0.956950\n",
      "F1    0.781291\n",
      "F2    0.600388\n",
      "F3    0.440459\n",
      "F4    0.380158\n",
      "F5    0.283152\n",
      "G1    0.238582\n",
      "G2    0.191390\n",
      "G4    0.133711\n",
      "G3    0.115358\n",
      "G5    0.073410\n",
      "Name: count, dtype: float64\n"
     ]
    },
    {
     "data": {
      "image/png": "[encoded data removed]",
      "text/plain": [
       "<Figure size 1400x400 with 1 Axes>"
      ]
     },
     "metadata": {},
     "output_type": "display_data"
    }
   ],
   "source": [
    "print(100*  (loan['sub_grade'].value_counts()/loan['sub_grade'].value_counts().sum()))\n",
    "plt.figure(figsize=(14,4))\n",
    "sorted_order = sorted(loan['sub_grade'].unique())\n",
    "ax = sns.countplot(x = 'sub_grade', data = loan, order=loan['sub_grade'].value_counts().index)\n",
    "for p in ax.patches:\n",
    "    height = int(p.get_height()) if p.get_height().is_integer() else p.get_height()\n",
    "    ax.annotate(f'{height}', (p.get_x() + p.get_width() / 2., p.get_height()), \n",
    "                ha='center', va='center', xytext=(0, 5), textcoords='offset points')\n",
    "plt.title('Sub_grade distribution plot ')\n",
    "plt.ylabel('Sub_grade count')\n",
    "plt.show()"
   ]
  },
  {
   "cell_type": "markdown",
   "id": "08b292c1",
   "metadata": {},
   "source": [
    "Observation: The majority of loans within grades A and B are predominantly acquired through subgrades 4 and 5, with each grade encompassing five subgrades."
   ]
  },
  {
   "cell_type": "markdown",
   "id": "b686e817",
   "metadata": {},
   "source": [
    "Lets do anlysis on employee\n"
   ]
  },
  {
   "cell_type": "code",
   "execution_count": null,
   "id": "19d505e5",
   "metadata": {},
   "outputs": [
    {
     "name": "stdout",
     "output_type": "stream",
     "text": [
      "emp_length\n",
      "10.0    24.587069\n",
      "0.5     11.711499\n",
      "2.0     11.116355\n",
      "3.0     10.416339\n",
      "4.0      8.675476\n",
      "5.0      8.295317\n",
      "1.0      8.224529\n",
      "6.0      5.631587\n",
      "7.0      4.441298\n",
      "8.0      3.715065\n",
      "9.0      3.185465\n",
      "Name: count, dtype: float64\n"
     ]
    }
   ],
   "source": [
    "print(100*  (loan['emp_length'].value_counts()/loan['emp_length'].value_counts().sum()))\n",
    "plt.figure(figsize=(10,3))\n",
    "sns.countplot(x = 'emp_length', data = loan, order=sorted(loan.emp_length))\n",
    "plt.title('Employee years of experience')\n",
    "plt.ylabel('emp_length count')\n",
    "plt.show()"
   ]
  },
  {
   "cell_type": "markdown",
   "id": "8cefb7e3",
   "metadata": {},
   "source": [
    "Observartion: Around 1/4th of loans are taken by people with more then 10 years of experience"
   ]
  },
  {
   "cell_type": "markdown",
   "id": "09aa2943",
   "metadata": {},
   "source": [
    "lets do analysis on loan amount"
   ]
  },
  {
   "cell_type": "code",
   "execution_count": null,
   "id": "24f1f3fa",
   "metadata": {},
   "outputs": [],
   "source": [
    "bins = [0, 5000, 10000, 15000, 20000, 25000, 30000, 35000]\n",
    "labels = ['0-5k', '5k-10k', '10k-15k', '15k-20k', '20k-25k', '25k-30k', '30k-35k']\n",
    "loan['loan_amnt_bins'] = pd.cut(loan['loan_amnt'], bins=bins, labels=labels)\n",
    "# Count the number of loans in each bin\n",
    "loan_amnt_bin_counts = loan['loan_amnt_bins'].value_counts().sort_index()\n",
    "bin_counts_df = loan_amnt_bin_counts.reset_index()\n",
    "bin_counts_df.columns = ['Loan Amount Bin', 'Number of Loans']\n",
    "\n",
    "fig = px.bar(bin_counts_df, x='Loan Amount Bin', y='Number of Loans',\n",
    "             title='Number of Loans per Loan Amount Bin',\n",
    "             labels={'Loan Amount Bin': 'Loan Amount Bin', 'Number of Loans': 'Number of Loans'})\n",
    "fig.show()\n",
    "print(100 * (loan['loan_amnt_bins'].value_counts()/loan['loan_amnt_bins'].value_counts().sum()))"
   ]
  },
  {
   "cell_type": "markdown",
   "id": "55eb5743",
   "metadata": {},
   "source": [
    "Higher amuunt of loan has taken in the amount bracket of 5k-10k"
   ]
  },
  {
   "cell_type": "code",
   "execution_count": null,
   "id": "7c7cac28",
   "metadata": {},
   "outputs": [],
   "source": [
    "import matplotlib.dates as mdates\n",
    "loan_1 = loan.copy()\n",
    "\n",
    "loan_1['issue_d'] = pd.to_datetime(loan_1['issue_d'])\n",
    "loan_1.set_index('issue_d', inplace=True) \n",
    "\n",
    "monthly_loan_amnt = loan_1['loan_amnt'].resample('M').sum()  \n",
    "sorted_monthly_loan_amnt = monthly_loan_amnt.sort_index()\n",
    "\n",
    "# Plotting the trend of loan amounts\n",
    "plt.figure(figsize=(8, 3))\n",
    "plt.plot(sorted_monthly_loan_amnt, marker='o')\n",
    "plt.xticks(sorted_monthly_loan_amnt.index, [date.strftime('%b%y') for date in sorted_monthly_loan_amnt.index])\n",
    "plt.title('Trend of Loan Amount')\n",
    "plt.xlabel('Date')\n",
    "plt.ylabel('Loan Amount')\n",
    "plt.grid(True)\n",
    "plt.show()"
   ]
  },
  {
   "cell_type": "markdown",
   "id": "302d51f1",
   "metadata": {},
   "source": [
    "Observation: \n",
    " - Majority of the loans taken in the month of December\n",
    " - Around 1/3rd of loans are taken between 5k to 10k "
   ]
  },
  {
   "cell_type": "markdown",
   "id": "0f9da749",
   "metadata": {},
   "source": [
    "now let's check interest rates"
   ]
  },
  {
   "cell_type": "code",
   "execution_count": null,
   "id": "191d2519",
   "metadata": {},
   "outputs": [],
   "source": [
    "# Distribution of interest rate\n",
    "plt.figure(figsize=(5,3))\n",
    "sns.distplot(sorted(loan.int_rate),kde=True,bins=25)\n",
    "plt.xlabel('Interest Rate')\n",
    "plt.ylabel('Density')\n",
    "plt.title('Distribution of Interest Rate')\n",
    "plt.show()"
   ]
  },
  {
   "cell_type": "markdown",
   "id": "65168830",
   "metadata": {},
   "source": [
    "Observations:\n",
    "Majority of loans are taken between 10-15%, with decreasing flow after 15%."
   ]
  },
  {
   "cell_type": "markdown",
   "id": "1f4407f9",
   "metadata": {},
   "source": [
    "#### Ownership"
   ]
  },
  {
   "cell_type": "code",
   "execution_count": null,
   "id": "1d4cedb6",
   "metadata": {},
   "outputs": [],
   "source": [
    "print(100*  (loan['home_ownership'].value_counts()/loan['home_ownership'].value_counts().sum()))\n",
    "plt.figure(figsize=(10,3))\n",
    "sns.countplot(x = 'home_ownership', data = loan, order=sorted(loan.home_ownership))\n",
    "plt.title('home_ownership')\n",
    "plt.ylabel('home_ownership count')\n",
    "plt.show()"
   ]
  },
  {
   "cell_type": "markdown",
   "id": "e8325329",
   "metadata": {},
   "source": [
    "Observation: \n",
    " - Just 7% of loan recipients are homeowners.\n",
    " - Over 90% of loan recipients reside in mortgaged or rented accommodations."
   ]
  },
  {
   "cell_type": "markdown",
   "id": "862c2f39",
   "metadata": {},
   "source": [
    "Lets check verificaiton status "
   ]
  },
  {
   "cell_type": "code",
   "execution_count": null,
   "id": "276280d3",
   "metadata": {},
   "outputs": [],
   "source": [
    "print(100*  (loan['verification_status'].value_counts()/loan['verification_status'].value_counts().sum()))\n",
    "plt.figure(figsize=(10,3))\n",
    "sns.countplot(x = 'verification_status', data = loan, order=sorted(loan.verification_status))\n",
    "plt.title('verification_status')\n",
    "plt.ylabel('verification_status count')\n",
    "plt.show()"
   ]
  },
  {
   "cell_type": "markdown",
   "id": "ca25527f",
   "metadata": {},
   "source": [
    "Observation: \n",
    "Over 50% of individuals have undergone either verification or source verification, with 43% people not verified"
   ]
  },
  {
   "cell_type": "markdown",
   "id": "01144c94",
   "metadata": {},
   "source": [
    "#### lets check loan purpose"
   ]
  },
  {
   "cell_type": "code",
   "execution_count": null,
   "id": "87812ec4",
   "metadata": {},
   "outputs": [],
   "source": [
    "print(100*  (loan['purpose'].value_counts()/loan['purpose'].value_counts().sum()))\n",
    "plt.figure(figsize=(22,5))\n",
    "sns.countplot(x = 'purpose', data = loan, order=sorted(loan.purpose))\n",
    "plt.title('purpose')\n",
    "plt.ylabel('purpose count')\n",
    "plt.show()"
   ]
  },
  {
   "cell_type": "markdown",
   "id": "7a479055",
   "metadata": {},
   "source": [
    "Observation: More then 45% of loans are taken for debt consolidation "
   ]
  },
  {
   "cell_type": "markdown",
   "id": "8cbf0a4a",
   "metadata": {},
   "source": [
    "##### Distibution of DTI"
   ]
  },
  {
   "cell_type": "code",
   "execution_count": null,
   "id": "b85ff44e",
   "metadata": {},
   "outputs": [],
   "source": [
    "# Distribution of dti\n",
    "plt.figure(figsize=(7,3))\n",
    "sns.distplot(loan.dti,kde=True,bins=20)\n",
    "plt.xlabel('DTI ratio')\n",
    "plt.ylabel('Density')\n",
    "plt.title('Distribution of DTI ratio',fontsize=12)\n",
    "plt.show()"
   ]
  },
  {
   "cell_type": "markdown",
   "id": "dd26a2f6",
   "metadata": {},
   "source": [
    "Observation:  Majority of the borrowers have very large debt compared to the income registered, concentrated in the 10-15 DTI ratio."
   ]
  },
  {
   "cell_type": "markdown",
   "id": "db0f604f",
   "metadata": {},
   "source": [
    "##### Public record bankruptch"
   ]
  },
  {
   "cell_type": "code",
   "execution_count": null,
   "id": "00b67b33",
   "metadata": {},
   "outputs": [],
   "source": [
    "print(100* loan['pub_rec_bankruptcies'].value_counts(normalize=True))\n",
    "# Distribution of pub_rec_bankruptcies\n",
    "plt.figure(figsize=(6,3))\n",
    "sns.countplot(x=loan.pub_rec_bankruptcies)\n",
    "plt.xlabel('Public Record Bankruptcies')\n",
    "plt.ylabel('Density')\n",
    "plt.title('Distribution of Public Record Bankruptcies',fontsize=12)\n",
    "plt.show()"
   ]
  },
  {
   "cell_type": "markdown",
   "id": "ea1f7da4",
   "metadata": {},
   "source": [
    "Observation: Around 95% of loans have no public record bankruptcies"
   ]
  },
  {
   "cell_type": "markdown",
   "id": "1cdcd9f0",
   "metadata": {},
   "source": [
    "## Now lets do Bivariate and Multivariate Analysis"
   ]
  },
  {
   "cell_type": "code",
   "execution_count": null,
   "id": "812a690b",
   "metadata": {},
   "outputs": [],
   "source": [
    "# Comparison of interest rate based on grade\n",
    "plt.figure(figsize=(7,3))\n",
    "sns.barplot(data=loan,x='int_rate',y='grade')\n",
    "plt.xlabel('Interest Rate')\n",
    "plt.ylabel('Grade')\n",
    "plt.title('Comparison of Interest Rate Based On Grade',fontsize=12)\n",
    "plt.show()"
   ]
  },
  {
   "cell_type": "markdown",
   "id": "3488172c",
   "metadata": {},
   "source": [
    "Observation: The creditworthiness of a borrower, as reflected by their grade, is a key factor in determining the interest rate. Borrowers with lower grades (higher risk) are typically charged higher interest rates"
   ]
  },
  {
   "cell_type": "code",
   "execution_count": null,
   "id": "703d9131",
   "metadata": {},
   "outputs": [],
   "source": [
    "# Distribution of Term based on Grade\n",
    "plt.figure(figsize=(6,4))\n",
    "sns.countplot(data=loan,x='term',hue='grade')\n",
    "plt.xlabel('Term')\n",
    "plt.ylabel('Count')\n",
    "plt.title('Distribution of Term For Grade',fontsize=12)\n",
    "plt.show()"
   ]
  },
  {
   "cell_type": "markdown",
   "id": "359da560",
   "metadata": {},
   "source": [
    "Observation: Majority of loans are taken by grade A and B are for 36 months"
   ]
  },
  {
   "cell_type": "code",
   "execution_count": null,
   "id": "b598c5ad",
   "metadata": {},
   "outputs": [],
   "source": [
    "# Distribution of house_ownership based on loan_status\n",
    "plt.figure(figsize=(7,3))\n",
    "sns.countplot(data=loan,x='home_ownership',hue='loan_status')\n",
    "plt.xlabel('Home Ownership')\n",
    "plt.ylabel('Count')\n",
    "plt.title('Distribution of Home Ownership For Loan Status',fontsize=12)\n",
    "plt.legend(loc='upper center')\n",
    "plt.show()"
   ]
  },
  {
   "cell_type": "markdown",
   "id": "ffb0b2e2",
   "metadata": {},
   "source": [
    "Observation: People who own their property are less likely to default on their loans compared to those who rent or have a mortgage on their property."
   ]
  },
  {
   "cell_type": "code",
   "execution_count": null,
   "id": "bea5fee1",
   "metadata": {},
   "outputs": [],
   "source": [
    "# Distribution of addr_state\n",
    "plt.figure(figsize=(15,3))\n",
    "sns.countplot(x=loan.addr_state,hue=loan.loan_status)\n",
    "plt.xlabel('Count')\n",
    "plt.ylabel('State')\n",
    "plt.title('Distribution of State',fontsize=12)\n",
    "plt.show()"
   ]
  },
  {
   "cell_type": "markdown",
   "id": "8ec7cdda",
   "metadata": {},
   "source": [
    "Observation: There is high frequency of people who have defaulted and fully paid off loans in CA,FL,NY"
   ]
  },
  {
   "cell_type": "code",
   "execution_count": null,
   "id": "8daf0502",
   "metadata": {},
   "outputs": [],
   "source": [
    "# Distribution of DTI based on Grade\n",
    "plt.figure(figsize=(7,3))\n",
    "sns.histplot(data=loan,x='dti',hue='loan_status',bins=10)\n",
    "plt.xlabel('DTI')\n",
    "plt.ylabel('Count')\n",
    "plt.title('Distribution of DTI For Loan Status',fontsize=12)\n",
    "plt.show()"
   ]
  },
  {
   "cell_type": "markdown",
   "id": "6e066937",
   "metadata": {},
   "source": [
    "There's a connection between debt-to-income (DTI) ratio and loan approval. While loans with a DTI ratio in the 10-15 range might have more defaults, the overall trend shows that a higher DTI ratio leads to a greater risk of default."
   ]
  },
  {
   "cell_type": "code",
   "execution_count": null,
   "id": "3aae19cf",
   "metadata": {},
   "outputs": [],
   "source": [
    "# Distribution of annual_inc based on loan_status\n",
    "plt.figure(figsize=(7,3))\n",
    "sns.histplot(data=loan,x='annual_inc',hue='loan_status',bins=20,kde=True)\n",
    "plt.xlabel('Annual Income')\n",
    "plt.ylabel('Count')\n",
    "plt.title('Distribution of Annual Income For Loan Status',fontsize=12)\n",
    "plt.show()"
   ]
  },
  {
   "cell_type": "markdown",
   "id": "c815db8b",
   "metadata": {},
   "source": [
    "Observation: The lower a borrower's annual income, the higher the chance of loan default. Conversely, borrowers with higher incomes are less likely to default."
   ]
  },
  {
   "cell_type": "code",
   "execution_count": null,
   "id": "bfe938d6",
   "metadata": {},
   "outputs": [],
   "source": [
    "plt.figure(figsize=(7,3))\n",
    "\n",
    "sns.barplot(x='term', y='loan_amnt', hue='loan_status', data=loan, estimator=np.median)\n",
    "plt.title('Term vs loan amount')\n"
   ]
  },
  {
   "cell_type": "markdown",
   "id": "5489e93b",
   "metadata": {},
   "source": [
    "Observation: The loan term (36 or 60 months) doesn't appear to influence whether a borrower defaults on the loan. In other words, there's an equal distribution of defaults and non-defaults across both loan terms."
   ]
  },
  {
   "cell_type": "code",
   "execution_count": null,
   "id": "057dcca6",
   "metadata": {},
   "outputs": [],
   "source": [
    "grade_ord = loan.grade.unique()\n",
    "grade_ord.sort()\n",
    "plt.figure(figsize=(8,3))\n",
    "sns.barplot(x='grade', y='loan_amnt', hue='loan_status', data=loan, estimator=np.median, order = grade_ord)\n",
    "plt.suptitle('Term vs loan amount')\n",
    "plt.show()"
   ]
  },
  {
   "cell_type": "markdown",
   "id": "d7d7dcb3",
   "metadata": {},
   "source": [
    "Observation: Comparatively Annual income is higher for lower grades."
   ]
  },
  {
   "cell_type": "code",
   "execution_count": null,
   "id": "e5b48457",
   "metadata": {},
   "outputs": [],
   "source": [
    "df = loan.groupby(['purpose', 'loan_status'], as_index=False)['loan_amnt'].median()\n",
    "\n",
    "plt.figure(figsize=(8,4))\n",
    "sns.barplot(x='purpose', y='loan_amnt', hue='loan_status', data= loan,order=df[df.loan_status == 'Charged Off'].sort_values(by='loan_amnt').purpose)\n",
    "plt.title('Purpose vs loan amount')\n",
    "plt.xticks(rotation=90)\n",
    "plt.show()"
   ]
  },
  {
   "cell_type": "markdown",
   "id": "7c1361e3",
   "metadata": {},
   "source": [
    " Small businesses face a higher risk of defaulting on loans with larger amounts."
   ]
  },
  {
   "cell_type": "code",
   "execution_count": null,
   "id": "fd3c3167",
   "metadata": {},
   "outputs": [],
   "source": [
    "df = loan.groupby(['purpose', 'loan_status'], as_index=False)['int_rate'].median()\n",
    "\n",
    "plt.figure(figsize=(8,4))\n",
    "sns.barplot(x='purpose', y='int_rate', hue='loan_status', data= loan, estimator=np.median, order = df[df.loan_status == 'Charged Off'].sort_values(by='int_rate').purpose)\n",
    "plt.title('Purpose vs interest rate')\n",
    "plt.xticks(rotation=90)\n",
    "plt.show()"
   ]
  },
  {
   "cell_type": "markdown",
   "id": "61f93441",
   "metadata": {},
   "source": [
    "High-interest home loans often result in defaults, a trend similarly observed in small business and debt consolidation loans."
   ]
  },
  {
   "cell_type": "code",
   "execution_count": null,
   "id": "e56351b7",
   "metadata": {},
   "outputs": [],
   "source": [
    "plt.figure(figsize=(20,12))\n",
    "plt.subplot(211)\n",
    "sns.scatterplot(x='loan_amnt', y='annual_inc', data=loan[loan.loan_status == 'Charged Off'])\n",
    "plt.yscale('log')\n",
    "plt.title('Loan Amount vs Loan interest rate (Charged Off)')\n",
    "plt.subplot(212)\n",
    "sns.scatterplot(x='loan_amnt', y='annual_inc', data=loan[loan.loan_status == 'Fully Paid'])\n",
    "plt.yscale('log')\n",
    "plt.title('Loan Amount vs Loan interest rate (Fully Paid)')\n",
    "plt.show()"
   ]
  },
  {
   "cell_type": "markdown",
   "id": "b316bec0",
   "metadata": {},
   "source": [
    "Fully paid and Charged Off loans show comparable patterns in relation to annual income, with a linear model having a significantly low slope."
   ]
  },
  {
   "cell_type": "code",
   "execution_count": null,
   "id": "c86ac4d1",
   "metadata": {},
   "outputs": [],
   "source": [
    "plt.figure(figsize=(10,6))\n",
    "sns.heatmap(loan[numerical_col].corr(),annot=True,cmap=\"YlGnBu_r\")\n",
    "plt.show()"
   ]
  },
  {
   "cell_type": "code",
   "execution_count": null,
   "id": "82131a0a",
   "metadata": {},
   "outputs": [],
   "source": []
  },
  {
   "cell_type": "code",
   "execution_count": null,
   "id": "e0beeb01",
   "metadata": {},
   "outputs": [],
   "source": []
  },
  {
   "cell_type": "code",
   "execution_count": null,
   "id": "d7ae9997",
   "metadata": {},
   "outputs": [],
   "source": []
  },
  {
   "cell_type": "code",
   "execution_count": null,
   "id": "24bce00c",
   "metadata": {},
   "outputs": [],
   "source": []
  },
  {
   "cell_type": "code",
   "execution_count": null,
   "id": "75e550ec",
   "metadata": {},
   "outputs": [],
   "source": []
  }
 ],
 "metadata": {
  "kernelspec": {
   "display_name": "Python 3 (ipykernel)",
   "language": "python",
   "name": "python3"
  },
  "language_info": {
   "codemirror_mode": {
    "name": "ipython",
    "version": 3
   },
   "file_extension": ".py",
   "mimetype": "text/x-python",
   "name": "python",
   "nbconvert_exporter": "python",
   "pygments_lexer": "ipython3",
   "version": "3.11.5"
  }
 },
 "nbformat": 4,
 "nbformat_minor": 5
}
